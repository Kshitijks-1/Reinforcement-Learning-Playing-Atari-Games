{
  "nbformat": 4,
  "nbformat_minor": 0,
  "metadata": {
    "colab": {
      "name": "Fast_QLearning_Using_Experience_Replay.ipynb",
      "provenance": []
    },
    "kernelspec": {
      "name": "python3",
      "display_name": "Python 3"
    },
    "language_info": {
      "name": "python"
    }
  },
  "cells": [
    {
      "cell_type": "code",
      "metadata": {
        "colab": {
          "base_uri": "https://localhost:8080/"
        },
        "id": "yQPKacmvXoLU",
        "outputId": "ad29aacb-f223-4e9a-96f4-9258950bbc33"
      },
      "source": [
        "%tensorflow_version 1.x\n",
        "import gym\n",
        "import random\n",
        "import numpy as np\n",
        "import tensorflow as tf\n",
        "import time\n",
        "from gym.envs.registration import register\n",
        "from IPython.display import clear_output\n",
        "from collections import deque\n",
        "print(\"Using OpenAI Gym:\", gym.__version__)\n",
        "print(\"Using Tensorflow:\", tf.__version__)"
      ],
      "execution_count": 1,
      "outputs": [
        {
          "output_type": "stream",
          "text": [
            "TensorFlow 1.x selected.\n",
            "Using OpenAI Gym: 0.17.3\n",
            "Using Tensorflow: 1.15.2\n"
          ],
          "name": "stdout"
        }
      ]
    },
    {
      "cell_type": "code",
      "metadata": {
        "colab": {
          "base_uri": "https://localhost:8080/"
        },
        "id": "2mk8NQwUYNPq",
        "outputId": "7111b17b-4f23-481a-d11e-7680a387cc3d"
      },
      "source": [
        "try:\n",
        "    register(\n",
        "        id='FrozenLakeNoSlip-v0',\n",
        "        entry_point='gym.envs.toy_text:FrozenLakeEnv',\n",
        "        kwargs={'map_name' : '4x4', 'is_slippery':False},\n",
        "        max_episode_steps=100,\n",
        "        reward_threshold=0.78, # optimum = .8196\n",
        "    )\n",
        "except:\n",
        "    pass\n",
        "env_name = \"FrozenLakeNoSlip-v0\"\n",
        "env = gym.make(env_name)\n",
        "print(\"Observation space:\", env.observation_space)\n",
        "print(\"Action space:\", env.action_space)\n",
        "type(env.action_space)"
      ],
      "execution_count": 2,
      "outputs": [
        {
          "output_type": "stream",
          "text": [
            "Observation space: Discrete(16)\n",
            "Action space: Discrete(4)\n"
          ],
          "name": "stdout"
        },
        {
          "output_type": "execute_result",
          "data": {
            "text/plain": [
              "gym.spaces.discrete.Discrete"
            ]
          },
          "metadata": {
            "tags": []
          },
          "execution_count": 2
        }
      ]
    },
    {
      "cell_type": "code",
      "metadata": {
        "id": "ZkcYNqK1YRPD"
      },
      "source": [
        "class Agent():\n",
        "    def __init__(self, env):\n",
        "        self.is_discrete = \\\n",
        "            type(env.action_space) == gym.spaces.discrete.Discrete\n",
        "        \n",
        "        if self.is_discrete:\n",
        "            self.action_size = env.action_space.n\n",
        "            print(\"Action size:\", self.action_size)\n",
        "        else:\n",
        "            self.action_low = env.action_space.low\n",
        "            self.action_high = env.action_space.high\n",
        "            self.action_shape = env.action_space.shape\n",
        "            print(\"Action range:\", self.action_low, self.action_high)\n",
        "        \n",
        "    def get_action(self, state):\n",
        "        if self.is_discrete:\n",
        "            action = random.choice(range(self.action_size))\n",
        "        else:\n",
        "            action = np.random.uniform(self.action_low,\n",
        "                                       self.action_high,\n",
        "                                       self.action_shape)\n",
        "        return action"
      ],
      "execution_count": 3,
      "outputs": []
    },
    {
      "cell_type": "code",
      "metadata": {
        "colab": {
          "base_uri": "https://localhost:8080/"
        },
        "id": "GB_i994pYWeT",
        "outputId": "dedd5064-702b-4d96-9155-e93385862eff"
      },
      "source": [
        "class QNAgent(Agent):\n",
        "    def __init__(self, env, discount_rate=0.97, learning_rate=0.001):\n",
        "        super().__init__(env)\n",
        "        self.state_size = env.observation_space.n\n",
        "        print(\"State size:\", self.state_size)\n",
        "        \n",
        "        self.eps = 1.0\n",
        "        self.discount_rate = discount_rate\n",
        "        self.learning_rate = learning_rate\n",
        "        self.build_model()\n",
        "        \n",
        "        self.sess = tf.Session()\n",
        "        self.sess.run(tf.global_variables_initializer())\n",
        "        self.replay_buffer = deque(maxlen=1000)\n",
        "        \n",
        "    def build_model(self):\n",
        "        tf.reset_default_graph()\n",
        "        self.state_in = tf.placeholder(tf.int32, shape=[None])\n",
        "        self.action_in = tf.placeholder(tf.int32, shape=[None])\n",
        "        self.target_in = tf.placeholder(tf.float32, shape=[None])\n",
        "        \n",
        "        self.state = tf.one_hot(self.state_in, depth=self.state_size)\n",
        "        self.action = tf.one_hot(self.action_in, depth=self.action_size)\n",
        "        \n",
        "        self.q_state = tf.layers.dense(self.state, units=self.action_size, name=\"q_table\")\n",
        "        self.q_action = tf.reduce_sum(tf.multiply(self.q_state, self.action), axis=1)\n",
        "        \n",
        "        self.loss = tf.reduce_sum(tf.square(self.target_in - self.q_action))\n",
        "        self.optimizer = tf.train.AdamOptimizer(self.learning_rate).minimize(self.loss)\n",
        "        \n",
        "    def get_action(self, state):\n",
        "        q_state = self.sess.run(self.q_state, feed_dict={self.state_in: [state]})\n",
        "        action_greedy = np.argmax(q_state)\n",
        "        action_random = super().get_action(state)\n",
        "        return action_random if random.random() < self.eps else action_greedy\n",
        "    \n",
        "    def train(self, experience, batch_size=50):\n",
        "        self.replay_buffer.append(experience)\n",
        "        samples = random.choices(self.replay_buffer, k=batch_size)\n",
        "        state, action, next_state, reward, done = (list(col) for col in zip(experience, *samples))\n",
        "#         state, action, next_state, reward, done = ([exp] for exp in experience)\n",
        "        \n",
        "        q_next = self.sess.run(self.q_state, feed_dict={self.state_in: next_state})\n",
        "        q_next[done] = np.zeros([self.action_size])\n",
        "        q_target = reward + self.discount_rate * np.max(q_next, axis=1)\n",
        "        \n",
        "        feed = {self.state_in: state, self.action_in: action, self.target_in: q_target}\n",
        "        self.sess.run(self.optimizer, feed_dict=feed)\n",
        "        \n",
        "        if experience[4]:\n",
        "            self.eps = self.eps * 0.99\n",
        "            \n",
        "    def __del__(self):\n",
        "        self.sess.close()\n",
        "        \n",
        "agent = QNAgent(env)"
      ],
      "execution_count": 4,
      "outputs": [
        {
          "output_type": "stream",
          "text": [
            "Action size: 4\n",
            "State size: 16\n",
            "WARNING:tensorflow:From <ipython-input-4-2634a35d005f>:25: dense (from tensorflow.python.layers.core) is deprecated and will be removed in a future version.\n",
            "Instructions for updating:\n",
            "Use keras.layers.Dense instead.\n",
            "WARNING:tensorflow:From /tensorflow-1.15.2/python3.7/tensorflow_core/python/layers/core.py:187: Layer.apply (from tensorflow.python.keras.engine.base_layer) is deprecated and will be removed in a future version.\n",
            "Instructions for updating:\n",
            "Please use `layer.__call__` method instead.\n"
          ],
          "name": "stdout"
        }
      ]
    },
    {
      "cell_type": "code",
      "metadata": {
        "colab": {
          "base_uri": "https://localhost:8080/"
        },
        "id": "0pn9HzerYhK8",
        "outputId": "5438951b-7b23-48c0-a3da-7adb8e6c5ab2"
      },
      "source": [
        "l=[]\n",
        "for i in range(5):\n",
        "  total_reward = 0\n",
        "  print(i)\n",
        "  for ep in range(100):\n",
        "      state = env.reset()\n",
        "      done = False\n",
        "      while not done:\n",
        "          action = agent.get_action(state)\n",
        "          next_state, reward, done, info = env.step(action)\n",
        "          agent.train((state,action,next_state,reward,done))\n",
        "          state = next_state\n",
        "          total_reward += reward\n",
        "          l.append(total_reward)\n",
        "          \n",
        "          print(\"s:\", state, \"a:\", action)\n",
        "          print(\"Episode: {}, Total reward: {}, eps: {}\".format(ep,total_reward,agent.eps))\n",
        "          env.render()\n",
        "          with tf.variable_scope(\"q_table\", reuse=True):\n",
        "              weights = agent.sess.run(tf.get_variable(\"kernel\"))\n",
        "              print(weights)\n",
        "          time.sleep(0.05)\n",
        "          clear_output(wait=True)\n",
        "  \n",
        "      "
      ],
      "execution_count": 5,
      "outputs": [
        {
          "output_type": "stream",
          "text": [
            "s: 15 a: 2\n",
            "Episode: 99, Total reward: 98.0, eps: 0.006570483042414605\n",
            "  (Right)\n",
            "SFFF\n",
            "FHFH\n",
            "FFFH\n",
            "HFF\u001b[41mG\u001b[0m\n",
            "[[ 0.3366211   0.31485835  0.25230858  0.24137235]\n",
            " [-0.11016124 -0.4314073   0.36805156  0.11724569]\n",
            " [ 0.09766787  0.36921757  0.34196067  0.12310754]\n",
            " [ 0.37883773 -0.4283132   0.06360824  0.22348051]\n",
            " [ 0.35603625  0.34157455 -0.40389755  0.24087249]\n",
            " [-0.10324317  0.12816262  0.30309832 -0.4648284 ]\n",
            " [-0.39968625  0.39721867 -0.05240698  0.00844093]\n",
            " [ 0.3507325   0.23888326  0.20202601  0.3138736 ]\n",
            " [ 0.3824812  -0.5438573   0.42055643  0.2672618 ]\n",
            " [ 0.38267112  0.39688852  0.44873184 -0.44477937]\n",
            " [ 0.4099745   0.42608017 -0.47315657  0.313502  ]\n",
            " [ 0.22057396  0.49150062  0.27417707 -0.21476248]\n",
            " [-0.3211618   0.43405694 -0.09610856  0.25486124]\n",
            " [-0.50251895  0.38124925  0.4778935   0.15789662]\n",
            " [ 0.4381474   0.4263153   0.50790775  0.34833002]\n",
            " [ 0.4521079   0.3785181  -0.17925435 -0.37297347]]\n"
          ],
          "name": "stdout"
        }
      ]
    },
    {
      "cell_type": "code",
      "metadata": {
        "id": "68C5TK7xYkkn"
      },
      "source": [
        "x= [i for i in range(len(l))]"
      ],
      "execution_count": 7,
      "outputs": []
    },
    {
      "cell_type": "code",
      "metadata": {
        "id": "_gNVoF7NaLe_",
        "colab": {
          "base_uri": "https://localhost:8080/",
          "height": 282
        },
        "outputId": "87ef7207-2f58-4b94-ad8f-65df50a0f30a"
      },
      "source": [
        "import matplotlib.pyplot as plt\n",
        "plt.plot(x,l)"
      ],
      "execution_count": 8,
      "outputs": [
        {
          "output_type": "execute_result",
          "data": {
            "text/plain": [
              "[<matplotlib.lines.Line2D at 0x7fdd08d777d0>]"
            ]
          },
          "metadata": {
            "tags": []
          },
          "execution_count": 8
        },
        {
          "output_type": "display_data",
          "data": {
            "image/png": "[encoded data removed]",
            "text/plain": [
              "<Figure size 432x288 with 1 Axes>"
            ]
          },
          "metadata": {
            "tags": [],
            "needs_background": "light"
          }
        }
      ]
    },
    {
      "cell_type": "code",
      "metadata": {
        "id": "u_Tbc50ijx7h"
      },
      "source": [
        ""
      ],
      "execution_count": null,
      "outputs": []
    },
    {
      "cell_type": "code",
      "metadata": {
        "id": "3PLauQ96lP-5",
        "colab": {
          "base_uri": "https://localhost:8080/",
          "height": 279
        },
        "outputId": "0bf7bf6a-268d-4cb7-abdd-53f6186dab7c"
      },
      "source": [
        "def get_average(values):\n",
        "    \n",
        "    return sum(values)/len(values)\n",
        "\n",
        "avg_reward=[]\n",
        "for i in range(0,len(l),99):\n",
        "    avg_reward.append(get_average(l[i:i+100]))\n",
        "\n",
        "plt.plot(avg_reward)\n",
        "plt.ylabel('average reward')\n",
        "plt.xlabel('episodes (100\\'s)')\n",
        "plt.show()\n"
      ],
      "execution_count": 9,
      "outputs": [
        {
          "output_type": "display_data",
          "data": {
            "image/png": "[encoded data removed]",
            "text/plain": [
              "<Figure size 432x288 with 1 Axes>"
            ]
          },
          "metadata": {
            "tags": [],
            "needs_background": "light"
          }
        }
      ]
    }
  ]
}